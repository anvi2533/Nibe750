{
 "cells": [
  {
   "cell_type": "code",
   "execution_count": 45,
   "metadata": {},
   "outputs": [
    {
     "name": "stdout",
     "output_type": "stream",
     "text": [
      "200\n"
     ]
    }
   ],
   "source": [
    "import requests\n",
    "import os\n",
    "from dotenv import load_dotenv\n",
    "\n",
    "load_dotenv() \n",
    "\n",
    "# Define the API endpoint for token generation\n",
    "token_url = \"https://api.myuplink.com/oauth/token\"\n",
    "\n",
    "# Define the payload for the token request\n",
    "payload = {\n",
    "    \"client_id\": \"27a85d09-2380-437e-83a4-f7f4e7f13b98\",\n",
    "    \"client_secret\": os.getenv(\"CLIENT_SECRET\"),\n",
    "    \"grant_type\": \"client_credentials\",\n",
    "    \"scope\": \"READSYSTEM WRITESYSTEM\"\n",
    "}\n",
    "\n",
    "# Define the headers for the request\n",
    "headers = {\n",
    "    \"Content-Type\": \"application/x-www-form-urlencoded\"\n",
    "}\n",
    "\n",
    "# Make the POST request to generate the token\n",
    "response = requests.post(token_url, data=payload, headers=headers)\n",
    "token = response.json().get(\"access_token\")\n",
    "print(response.status_code)"
   ]
  },
  {
   "cell_type": "code",
   "execution_count": 46,
   "metadata": {},
   "outputs": [
    {
     "name": "stdout",
     "output_type": "stream",
     "text": [
      "200\n"
     ]
    }
   ],
   "source": [
    "import requests\n",
    "\n",
    "# Define the API endpoint\n",
    "url = \"https://api.myuplink.com/v2/devices/emmy-r-29350-20240309-06603616062027-d8-80-39-87-32-f9/points\"\n",
    "\n",
    "# Make the GET request\n",
    "response = requests.get(url, headers={\"Authorization\": f\"Bearer {token}\"})\n",
    "print(response.status_code)\n",
    "data = response.json()\n"
   ]
  },
  {
   "cell_type": "code",
   "execution_count": 1,
   "metadata": {},
   "outputs": [],
   "source": [
    "# Empty the collection\n",
    "\n",
    "from pymongo import MongoClient\n",
    "from time import sleep\n",
    "from datetime import datetime\n",
    "\n",
    "myclient = MongoClient(\"mongodb://localhost:27017/\")\n",
    "mydb = myclient[\"mydatabase\"]\n",
    "mycol = mydb[\"mycollection\"]\n",
    "\n",
    "mycol.drop()"
   ]
  },
  {
   "cell_type": "code",
   "execution_count": 53,
   "metadata": {},
   "outputs": [],
   "source": [
    "from pymongo import MongoClient\n",
    "from time import sleep\n",
    "from datetime import datetime\n",
    "\n",
    "client = MongoClient('mongodb://localhost:27017/')\n",
    "db = client['mydatabase']\n",
    "collection = db['mycollection']\n",
    "\n",
    "db_timestamp = datetime.now().isoformat()\n",
    "\n",
    "for item in data:\n",
    "    item['db_timestamp'] = db_timestamp\n",
    "    collection.insert_one(item)\n"
   ]
  },
  {
   "cell_type": "code",
   "execution_count": 2,
   "metadata": {},
   "outputs": [
    {
     "data": {
      "text/plain": [
       "73"
      ]
     },
     "execution_count": 2,
     "metadata": {},
     "output_type": "execute_result"
    }
   ],
   "source": [
    "from pymongo import MongoClient\n",
    "\n",
    "test = []\n",
    "\n",
    "client = MongoClient('mongodb://localhost:27017/')\n",
    "db = client['mydatabase']\n",
    "collection = db['mycollection']\n",
    "for document in collection.find():\n",
    "    test.append(document.get('db_timestamp'))\n",
    "\n",
    "len(list(set(test)))"
   ]
  }
 ],
 "metadata": {
  "kernelspec": {
   "display_name": ".venv",
   "language": "python",
   "name": "python3"
  },
  "language_info": {
   "codemirror_mode": {
    "name": "ipython",
    "version": 3
   },
   "file_extension": ".py",
   "mimetype": "text/x-python",
   "name": "python",
   "nbconvert_exporter": "python",
   "pygments_lexer": "ipython3",
   "version": "3.13.1"
  }
 },
 "nbformat": 4,
 "nbformat_minor": 2
}
