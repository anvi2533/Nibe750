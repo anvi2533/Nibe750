{
 "cells": [
  {
   "cell_type": "code",
   "execution_count": 44,
   "metadata": {},
   "outputs": [
    {
     "name": "stdout",
     "output_type": "stream",
     "text": [
      "200\n"
     ]
    }
   ],
   "source": [
    "import requests\n",
    "import os\n",
    "from dotenv import load_dotenv\n",
    "\n",
    "load_dotenv() \n",
    "\n",
    "# Define the API endpoint for token generation\n",
    "token_url = \"https://api.myuplink.com/oauth/token\"\n",
    "\n",
    "# Define the payload for the token request\n",
    "payload = {\n",
    "    \"client_id\": \"27a85d09-2380-437e-83a4-f7f4e7f13b98\",\n",
    "    \"client_secret\": os.getenv(\"CLIENT_SECRET\"),\n",
    "    \"grant_type\": \"client_credentials\",\n",
    "    \"scope\": \"READSYSTEM WRITESYSTEM\"\n",
    "}\n",
    "\n",
    "# Define the headers for the request\n",
    "headers = {\n",
    "    \"Content-Type\": \"application/x-www-form-urlencoded\"\n",
    "}\n",
    "\n",
    "# Make the POST request to generate the token\n",
    "response = requests.post(token_url, data=payload, headers=headers)\n",
    "token = response.json().get(\"access_token\")\n",
    "print(response.status_code)"
   ]
  },
  {
   "cell_type": "code",
   "execution_count": 45,
   "metadata": {},
   "outputs": [
    {
     "name": "stdout",
     "output_type": "stream",
     "text": [
      "200\n"
     ]
    }
   ],
   "source": [
    "import requests\n",
    "\n",
    "# Define the API endpoint\n",
    "url = \"https://api.myuplink.com/v2/devices/emmy-r-29350-20240309-06603616062027-d8-80-39-87-32-f9/points\"\n",
    "\n",
    "# Make the GET request\n",
    "response = requests.get(url, headers={\"Authorization\": f\"Bearer {token}\"})\n",
    "print(response.status_code)\n",
    "data = response.json()\n"
   ]
  },
  {
   "cell_type": "code",
   "execution_count": 46,
   "metadata": {},
   "outputs": [
    {
     "data": {
      "text/html": [
       "<div>\n",
       "<style scoped>\n",
       "    .dataframe tbody tr th:only-of-type {\n",
       "        vertical-align: middle;\n",
       "    }\n",
       "\n",
       "    .dataframe tbody tr th {\n",
       "        vertical-align: top;\n",
       "    }\n",
       "\n",
       "    .dataframe thead th {\n",
       "        text-align: right;\n",
       "    }\n",
       "</style>\n",
       "<table border=\"1\" class=\"dataframe\">\n",
       "  <thead>\n",
       "    <tr style=\"text-align: right;\">\n",
       "      <th></th>\n",
       "      <th>category</th>\n",
       "      <th>parameterId</th>\n",
       "      <th>parameterName</th>\n",
       "      <th>parameterUnit</th>\n",
       "      <th>writable</th>\n",
       "      <th>timestamp</th>\n",
       "      <th>value</th>\n",
       "      <th>strVal</th>\n",
       "      <th>smartHomeCategories</th>\n",
       "      <th>minValue</th>\n",
       "      <th>maxValue</th>\n",
       "      <th>stepValue</th>\n",
       "      <th>enumValues</th>\n",
       "      <th>scaleValue</th>\n",
       "      <th>zoneId</th>\n",
       "    </tr>\n",
       "  </thead>\n",
       "  <tbody>\n",
       "    <tr>\n",
       "      <th>3</th>\n",
       "      <td>F750 CU 3x400V</td>\n",
       "      <td>40013</td>\n",
       "      <td>Hot water top (BT7)</td>\n",
       "      <td>°C</td>\n",
       "      <td>False</td>\n",
       "      <td>2025-03-07T20:50:09+00:00</td>\n",
       "      <td>50.9</td>\n",
       "      <td>50.9°C</td>\n",
       "      <td>[]</td>\n",
       "      <td>NaN</td>\n",
       "      <td>NaN</td>\n",
       "      <td>1.0</td>\n",
       "      <td>[]</td>\n",
       "      <td>0.1</td>\n",
       "      <td>None</td>\n",
       "    </tr>\n",
       "  </tbody>\n",
       "</table>\n",
       "</div>"
      ],
      "text/plain": [
       "         category parameterId        parameterName parameterUnit  writable  \\\n",
       "3  F750 CU 3x400V       40013  Hot water top (BT7)            °C     False   \n",
       "\n",
       "                   timestamp  value  strVal smartHomeCategories  minValue  \\\n",
       "3  2025-03-07T20:50:09+00:00   50.9  50.9°C                  []       NaN   \n",
       "\n",
       "   maxValue  stepValue enumValues scaleValue zoneId  \n",
       "3       NaN        1.0         []        0.1   None  "
      ]
     },
     "execution_count": 46,
     "metadata": {},
     "output_type": "execute_result"
    }
   ],
   "source": [
    "import json\n",
    "import pandas as pd\n",
    "\n",
    "# Convert the JSON data to a DataFrame\n",
    "df = pd.DataFrame(data)\n",
    "\n",
    "filtered_df = df[df[\"parameterId\"] == '40013']\n",
    "\n",
    "filtered_df\n",
    "    \n",
    "    "
   ]
  },
  {
   "cell_type": "code",
   "execution_count": 47,
   "metadata": {},
   "outputs": [
    {
     "name": "stdout",
     "output_type": "stream",
     "text": [
      "200\n"
     ]
    }
   ],
   "source": [
    "import requests\n",
    "\n",
    "# Define the API endpoint\n",
    "url = \"https://api.myuplink.com/v2/systems/me\"\n",
    "\n",
    "# Make the GET request\n",
    "response = requests.get(url, headers={\"Authorization\": f\"Bearer {token}\"})\n",
    "print(response.status_code)\n",
    "data = response.json()"
   ]
  },
  {
   "cell_type": "code",
   "execution_count": 48,
   "metadata": {},
   "outputs": [
    {
     "data": {
      "text/plain": [
       "{'page': 1,\n",
       " 'itemsPerPage': 10,\n",
       " 'numItems': 1,\n",
       " 'systems': [{'systemId': '22af25ca-fd41-4202-ac1b-359e822e05b1',\n",
       "   'name': 'Nibe F750 Olandsvägen',\n",
       "   'securityLevel': 'admin',\n",
       "   'hasAlarm': False,\n",
       "   'country': 'Sweden',\n",
       "   'devices': [{'id': 'emmy-r-29350-20240309-06603616062027-d8-80-39-87-32-f9',\n",
       "     'connectionState': 'Connected',\n",
       "     'currentFwVersion': '9701R6',\n",
       "     'deviceType': '',\n",
       "     'product': {'serialNumber': '06603616062027',\n",
       "      'name': 'F750 CU 3x400V'}}]}]}"
      ]
     },
     "execution_count": 48,
     "metadata": {},
     "output_type": "execute_result"
    }
   ],
   "source": [
    "data"
   ]
  }
 ],
 "metadata": {
  "kernelspec": {
   "display_name": ".venv",
   "language": "python",
   "name": "python3"
  },
  "language_info": {
   "codemirror_mode": {
    "name": "ipython",
    "version": 3
   },
   "file_extension": ".py",
   "mimetype": "text/x-python",
   "name": "python",
   "nbconvert_exporter": "python",
   "pygments_lexer": "ipython3",
   "version": "3.13.1"
  }
 },
 "nbformat": 4,
 "nbformat_minor": 2
}
